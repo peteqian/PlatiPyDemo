{
 "cells": [
  {
   "cell_type": "markdown",
   "source": [
    "Apply RigidTransform only from the CompositeTransform"
   ],
   "metadata": {}
  },
  {
   "cell_type": "code",
   "execution_count": 1,
   "source": [
    "import SimpleITK as sitk\r\n",
    "from platipy.imaging import ImageVisualiser\r\n",
    "from platipy.imaging.registration.linear import linear_registration, alignment_registration\r\n",
    "from platipy.imaging.registration.utils import apply_transform, apply_linear_transform\r\n",
    "from pathlib import Path\r\n",
    "import glob\r\n",
    "import numpy"
   ],
   "outputs": [],
   "metadata": {}
  },
  {
   "cell_type": "code",
   "execution_count": 2,
   "source": [
    "img_ct_lung_5 = sitk.ReadImage(\"./PRHGD5257_LUNG/IMAGES/PRHGD5257_LUNG_0_CT_NON_CONTRAST_CHEST_5.nii.gz\")\r\n",
    "img_ct_lung_10 = sitk.ReadImage(\"./PRHGD5257_LUNG/IMAGES/PRHGD5257_LUNG_1_CT_NON_CONTRAST_CHEST_10.nii.gz\")"
   ],
   "outputs": [],
   "metadata": {}
  },
  {
   "cell_type": "markdown",
   "source": [
    "Only get the second Transform and downcast the Transform Object to Versor3DRigidTransform"
   ],
   "metadata": {}
  },
  {
   "cell_type": "code",
   "execution_count": 3,
   "source": [
    "composite_transform = sitk.ReadTransform('TransformObject.tfm')\r\n",
    "composite_transform = sitk.CompositeTransform(composite_transform)\r\n",
    "\r\n",
    "# Retrieve the 2nd Transform\r\n",
    "transform_type = composite_transform.GetNthTransform(1)\r\n",
    "\r\n",
    "# Downcast from Composite Transform to VersorRigid3D Transform\r\n",
    "versor_transform = transform_type.Downcast()"
   ],
   "outputs": [],
   "metadata": {}
  },
  {
   "cell_type": "code",
   "execution_count": 4,
   "source": [
    "transformed_image = apply_transform(img_ct_lung_10, img_ct_lung_5, versor_transform)\r\n",
    "\r\n",
    "vis = ImageVisualiser(img_ct_lung_5)\r\n",
    "vis.add_comparison_overlay(transformed_image)\r\n",
    "fig = vis.show()"
   ],
   "outputs": [],
   "metadata": {}
  }
 ],
 "metadata": {
  "orig_nbformat": 4,
  "language_info": {
   "name": "python",
   "version": "3.8.10",
   "mimetype": "text/x-python",
   "codemirror_mode": {
    "name": "ipython",
    "version": 3
   },
   "pygments_lexer": "ipython3",
   "nbconvert_exporter": "python",
   "file_extension": ".py"
  },
  "kernelspec": {
   "name": "python3",
   "display_name": "Python 3.8.10 64-bit ('venv': venv)"
  },
  "interpreter": {
   "hash": "50e3bff8221e8c1e014937816ca3298f3f1f379c2a39e571529c1af6f8b63cbd"
  }
 },
 "nbformat": 4,
 "nbformat_minor": 2
}